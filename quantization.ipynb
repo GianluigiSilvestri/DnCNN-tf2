{
  "nbformat": 4,
  "nbformat_minor": 0,
  "metadata": {
    "colab": {
      "name": "quantization.ipynb",
      "provenance": []
    },
    "kernelspec": {
      "name": "python3",
      "display_name": "Python 3"
    }
  },
  "cells": [
    {
      "cell_type": "code",
      "metadata": {
        "id": "1Q2M-0mjRN3r",
        "colab_type": "code",
        "colab": {
          "base_uri": "https://localhost:8080/",
          "height": 34
        },
        "outputId": "ad2772dc-32ce-408b-9953-1678f9397a6c"
      },
      "source": [
        "%cd drive/My\\ Drive/colab/dncnn"
      ],
      "execution_count": 2,
      "outputs": [
        {
          "output_type": "stream",
          "text": [
            "/content/drive/My Drive/colab/dncnn\n"
          ],
          "name": "stdout"
        }
      ]
    },
    {
      "cell_type": "code",
      "metadata": {
        "id": "P1U-pRvLP8bb",
        "colab_type": "code",
        "colab": {}
      },
      "source": [
        "import tensorflow as tf\n",
        "import numpy as np\n",
        "from pathlib import Path\n",
        "import time\n",
        "AUTOTUNE = tf.data.experimental.AUTOTUNE"
      ],
      "execution_count": 3,
      "outputs": []
    },
    {
      "cell_type": "code",
      "metadata": {
        "id": "dqPyfvAjQ0Jx",
        "colab_type": "code",
        "colab": {}
      },
      "source": [
        "converter = tf.lite.TFLiteConverter.from_saved_model('saved_model/vgg')"
      ],
      "execution_count": 4,
      "outputs": []
    },
    {
      "cell_type": "code",
      "metadata": {
        "id": "2QRl4_jSSJQg",
        "colab_type": "code",
        "colab": {
          "base_uri": "https://localhost:8080/",
          "height": 34
        },
        "outputId": "9d698661-04cf-441e-95d6-7a0e237fad3f"
      },
      "source": [
        "tflite_model = converter.convert()\n",
        "tflite_models_dir = Path(\"tflite_models/\")\n",
        "tflite_models_dir.mkdir(exist_ok=True, parents=True)\n",
        "tflite_model_file = tflite_models_dir/\"vgg.tflite\"\n",
        "tflite_model_file.write_bytes(tflite_model)"
      ],
      "execution_count": 5,
      "outputs": [
        {
          "output_type": "execute_result",
          "data": {
            "text/plain": [
              "2669928"
            ]
          },
          "metadata": {
            "tags": []
          },
          "execution_count": 5
        }
      ]
    },
    {
      "cell_type": "code",
      "metadata": {
        "id": "t119EZVYP1Xo",
        "colab_type": "code",
        "colab": {
          "base_uri": "https://localhost:8080/",
          "height": 34
        },
        "outputId": "d9db4bf9-3c6a-4f8a-9101-c3d647451219"
      },
      "source": [
        "converter.optimizations = [tf.lite.Optimize.DEFAULT]\n",
        "tflite_quant_model = converter.convert()\n",
        "tflite_model_quant_file = tflite_models_dir/\"vgg_quant.tflite\"\n",
        "tflite_model_quant_file.write_bytes(tflite_quant_model)"
      ],
      "execution_count": 6,
      "outputs": [
        {
          "output_type": "execute_result",
          "data": {
            "text/plain": [
              "679968"
            ]
          },
          "metadata": {
            "tags": []
          },
          "execution_count": 6
        }
      ]
    },
    {
      "cell_type": "code",
      "metadata": {
        "id": "GX0IJb1DRDSg",
        "colab_type": "code",
        "colab": {
          "base_uri": "https://localhost:8080/",
          "height": 68
        },
        "outputId": "c81919a3-0a9e-4332-fc15-6613aa5be7a7"
      },
      "source": [
        "!ls -lh {tflite_models_dir}"
      ],
      "execution_count": 7,
      "outputs": [
        {
          "output_type": "stream",
          "text": [
            "total 3.2M\n",
            "-rw------- 1 root root 665K Jul 13 20:26 vgg_quant.tflite\n",
            "-rw------- 1 root root 2.6M Jul 13 20:26 vgg.tflite\n"
          ],
          "name": "stdout"
        }
      ]
    },
    {
      "cell_type": "code",
      "metadata": {
        "id": "b7vJDNZ1VcKm",
        "colab_type": "code",
        "colab": {}
      },
      "source": [
        "interpreter = tf.lite.Interpreter(model_path=str(tflite_model_file))\n",
        "interpreter.allocate_tensors()"
      ],
      "execution_count": 8,
      "outputs": []
    },
    {
      "cell_type": "code",
      "metadata": {
        "id": "95a2AtnaVdXs",
        "colab_type": "code",
        "colab": {}
      },
      "source": [
        "interpreter_quant = tf.lite.Interpreter(model_path=str(tflite_model_quant_file))\n",
        "interpreter_quant.allocate_tensors()"
      ],
      "execution_count": 9,
      "outputs": []
    },
    {
      "cell_type": "code",
      "metadata": {
        "id": "-ddm5PL-T-CH",
        "colab_type": "code",
        "colab": {}
      },
      "source": [
        "def gaussian_noise_layer(dim):\n",
        "    std = 25#random.randint(0, 55)\n",
        "    noise = tf.random.normal(shape=[dim, dim, 1], mean=0.0, stddev=std / 255.0, dtype=tf.float32)\n",
        "    return noise\n",
        "\n",
        "def augment_test(image):\n",
        "    image = tf.io.read_file(image)\n",
        "    image = img = tf.image.decode_png(image, channels=1)\n",
        "    image = tf.image.resize_with_crop_or_pad(image, 180, 180)\n",
        "    image = tf.image.convert_image_dtype(image, tf.float32)\n",
        "    \n",
        "    return image\n",
        "\n",
        "def configure_for_test(ds):\n",
        "    ds = ds.cache()\n",
        "    ds = ds.map(augment_test, num_parallel_calls=AUTOTUNE)\n",
        "    ds = ds.batch(1)\n",
        "    ds = ds.prefetch(buffer_size=AUTOTUNE)\n",
        "    return ds"
      ],
      "execution_count": 10,
      "outputs": []
    },
    {
      "cell_type": "code",
      "metadata": {
        "id": "xGS8aiuQTkgg",
        "colab_type": "code",
        "colab": {}
      },
      "source": [
        "tf.random.set_seed(123)\n",
        "test_dir = 'data/12/*.png'\n",
        "test_ds = tf.data.Dataset.list_files(test_dir)\n",
        "test_ds = configure_for_test(test_ds)\n",
        "noises = [gaussian_noise_layer(180) for i in range(12)]\n"
      ],
      "execution_count": 12,
      "outputs": []
    },
    {
      "cell_type": "code",
      "metadata": {
        "id": "LHMi34EnSoas",
        "colab_type": "code",
        "colab": {}
      },
      "source": [
        "# A helper function to evaluate the TF Lite model using \"test\" dataset.\n",
        "def evaluate_model(interp, noises):\n",
        "  input_index = interp.get_input_details()[0][\"index\"]\n",
        "  output_index = interp.get_output_details()[0][\"index\"]\n",
        "\n",
        "  # Run predictions on every image in the \"test\" dataset.\n",
        "  psnr = 0.0\n",
        "  for i, image in enumerate(test_ds):\n",
        "    noisy_image = image+noises[i]\n",
        "    # Pre-processing: add batch dimension and convert to float32 to match with\n",
        "    # the model's input data format.\n",
        "    #test_image = np.expand_dims(test_image, axis=0).astype(np.float32)\n",
        "    interp.set_tensor(input_index, noisy_image)\n",
        "\n",
        "    # Run inference.\n",
        "    interp.invoke()\n",
        "\n",
        "    # Post-processing: remove batch dimension and find the digit with highest\n",
        "    # probability.\n",
        "    output = interp.get_tensor(output_index)\n",
        "    psnr += tf.image.psnr(noisy_image-output, image,  max_val=1.0)\n",
        "\n",
        "  return psnr/(i+1)"
      ],
      "execution_count": 16,
      "outputs": []
    },
    {
      "cell_type": "code",
      "metadata": {
        "id": "__fDkcRvVRgn",
        "colab_type": "code",
        "colab": {
          "base_uri": "https://localhost:8080/",
          "height": 51
        },
        "outputId": "dac092f7-07dd-4d2d-fbab-e1c18e96ab41"
      },
      "source": [
        "psnr=evaluate_model(interpreter_quant, noises)\n",
        "print(psnr)"
      ],
      "execution_count": 21,
      "outputs": [
        {
          "output_type": "stream",
          "text": [
            "21.08946204185486\n",
            "tf.Tensor([27.551874], shape=(1,), dtype=float32)\n"
          ],
          "name": "stdout"
        }
      ]
    },
    {
      "cell_type": "code",
      "metadata": {
        "id": "iWj6QGSwVVw3",
        "colab_type": "code",
        "colab": {
          "base_uri": "https://localhost:8080/",
          "height": 51
        },
        "outputId": "346f2086-db85-4774-a58b-e0a4a6405dee"
      },
      "source": [
        "psnr=evaluate_model(interpreter, noises)\n",
        "print(psnr)"
      ],
      "execution_count": 22,
      "outputs": [
        {
          "output_type": "stream",
          "text": [
            "9.15105128288269\n",
            "tf.Tensor([27.76517], shape=(1,), dtype=float32)\n"
          ],
          "name": "stdout"
        }
      ]
    },
    {
      "cell_type": "code",
      "metadata": {
        "id": "iMdXGo_FYaqm",
        "colab_type": "code",
        "colab": {}
      },
      "source": [
        ""
      ],
      "execution_count": 101,
      "outputs": []
    }
  ]
}